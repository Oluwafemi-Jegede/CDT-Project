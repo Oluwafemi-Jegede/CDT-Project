{
 "cells": [
  {
   "cell_type": "markdown",
   "metadata": {},
   "source": [
    "# Findings and Next Steps\n",
    "\n",
    "In this section\n",
    "\n",
    "- A final model (XGBoost) will be trained using the data set\n",
    "\n",
    "\n",
    "- Summary of findings will be discussed throughout the sections of the project will be discussed \n",
    "\n",
    "\n",
    "- Next steps "
   ]
  },
  {
   "cell_type": "markdown",
   "metadata": {},
   "source": [
    "### Importing  all the necessary libraries"
   ]
  },
  {
   "cell_type": "code",
   "execution_count": 9,
   "metadata": {},
   "outputs": [],
   "source": [
    "import pandas as pd\n",
    "import numpy as np\n",
    "\n",
    "#ploting \n",
    "import matplotlib.pyplot as plt\n",
    "import seaborn as sns\n",
    "sns.set()\n",
    "import plotly.express as px\n",
    "\n",
    "#modeling and evaluation\n",
    "\n",
    "from xgboost import XGBClassifier\n",
    "from sklearn.metrics import plot_confusion_matrix, confusion_matrix,classification_report,roc_auc_score\n",
    "from sklearn.model_selection import train_test_split\n",
    "from sklearn.preprocessing import MinMaxScaler"
   ]
  },
  {
   "cell_type": "markdown",
   "metadata": {},
   "source": [
    "## Final modeling\n",
    "\n",
    "- import clean data"
   ]
  },
  {
   "cell_type": "code",
   "execution_count": 4,
   "metadata": {},
   "outputs": [
    {
     "data": {
      "text/html": [
       "<div>\n",
       "<style scoped>\n",
       "    .dataframe tbody tr th:only-of-type {\n",
       "        vertical-align: middle;\n",
       "    }\n",
       "\n",
       "    .dataframe tbody tr th {\n",
       "        vertical-align: top;\n",
       "    }\n",
       "\n",
       "    .dataframe thead th {\n",
       "        text-align: right;\n",
       "    }\n",
       "</style>\n",
       "<table border=\"1\" class=\"dataframe\">\n",
       "  <thead>\n",
       "    <tr style=\"text-align: right;\">\n",
       "      <th></th>\n",
       "      <th>order_id</th>\n",
       "      <th>customer_id</th>\n",
       "      <th>product_id</th>\n",
       "      <th>seller_id</th>\n",
       "      <th>order_item_id</th>\n",
       "      <th>order_status</th>\n",
       "      <th>order_purchase_timestamp</th>\n",
       "      <th>order_approved_at</th>\n",
       "      <th>shipping_limit_date</th>\n",
       "      <th>order_delivered_carrier_date</th>\n",
       "      <th>...</th>\n",
       "      <th>distance_in_km</th>\n",
       "      <th>carrier_Week</th>\n",
       "      <th>carrier_Year</th>\n",
       "      <th>carrier_DofW</th>\n",
       "      <th>Holiday</th>\n",
       "      <th>customer_state_encode</th>\n",
       "      <th>seller_state_encode</th>\n",
       "      <th>distance_category</th>\n",
       "      <th>same_state</th>\n",
       "      <th>delivery_window</th>\n",
       "    </tr>\n",
       "  </thead>\n",
       "  <tbody>\n",
       "    <tr>\n",
       "      <th>0</th>\n",
       "      <td>e481f51cbdc54678b7cc49136f2d6af7</td>\n",
       "      <td>9ef432eb6251297304e76186b10a928d</td>\n",
       "      <td>87285b34884572647811a353c7ac498a</td>\n",
       "      <td>3504c0cb71d7fa48d967e0e4c94d59d9</td>\n",
       "      <td>1</td>\n",
       "      <td>delivered</td>\n",
       "      <td>2017-10-02 10:56:33</td>\n",
       "      <td>2017-10-02 11:07:15</td>\n",
       "      <td>2017-10-06 11:07:15</td>\n",
       "      <td>2017-10-04 19:55:00</td>\n",
       "      <td>...</td>\n",
       "      <td>18.051106</td>\n",
       "      <td>40</td>\n",
       "      <td>2017</td>\n",
       "      <td>2</td>\n",
       "      <td>0</td>\n",
       "      <td>1.0</td>\n",
       "      <td>1</td>\n",
       "      <td>0</td>\n",
       "      <td>1</td>\n",
       "      <td>1</td>\n",
       "    </tr>\n",
       "    <tr>\n",
       "      <th>1</th>\n",
       "      <td>53cdb2fc8bc7dce0b6741e2150273451</td>\n",
       "      <td>b0830fb4747a6c6d20dea0b8c802d7ef</td>\n",
       "      <td>595fac2a385ac33a80bd5114aec74eb8</td>\n",
       "      <td>289cdb325fb7e7f891c38608bf9e0962</td>\n",
       "      <td>1</td>\n",
       "      <td>delivered</td>\n",
       "      <td>2018-07-24 20:41:37</td>\n",
       "      <td>2018-07-26 03:24:27</td>\n",
       "      <td>2018-07-30 03:24:27</td>\n",
       "      <td>2018-07-26 14:31:00</td>\n",
       "      <td>...</td>\n",
       "      <td>852.256379</td>\n",
       "      <td>30</td>\n",
       "      <td>2018</td>\n",
       "      <td>3</td>\n",
       "      <td>0</td>\n",
       "      <td>0.0</td>\n",
       "      <td>1</td>\n",
       "      <td>3</td>\n",
       "      <td>0</td>\n",
       "      <td>2</td>\n",
       "    </tr>\n",
       "    <tr>\n",
       "      <th>2</th>\n",
       "      <td>47770eb9100c2d0c44946d9cf07ec65d</td>\n",
       "      <td>41ce2a54c0b03bf3443c3d931a367089</td>\n",
       "      <td>aa4383b373c6aca5d8797843e5594415</td>\n",
       "      <td>4869f7a5dfa277a7dca6462dcf3b52b2</td>\n",
       "      <td>1</td>\n",
       "      <td>delivered</td>\n",
       "      <td>2018-08-08 08:38:49</td>\n",
       "      <td>2018-08-08 08:55:23</td>\n",
       "      <td>2018-08-13 08:55:23</td>\n",
       "      <td>2018-08-08 13:50:00</td>\n",
       "      <td>...</td>\n",
       "      <td>511.820721</td>\n",
       "      <td>32</td>\n",
       "      <td>2018</td>\n",
       "      <td>2</td>\n",
       "      <td>1</td>\n",
       "      <td>0.0</td>\n",
       "      <td>1</td>\n",
       "      <td>2</td>\n",
       "      <td>0</td>\n",
       "      <td>2</td>\n",
       "    </tr>\n",
       "    <tr>\n",
       "      <th>3</th>\n",
       "      <td>949d5b44dbf5de918fe9c16f97b45f8a</td>\n",
       "      <td>f88197465ea7920adcdbec7375364d82</td>\n",
       "      <td>d0b61bfb1de832b15ba9d266ca96e5b0</td>\n",
       "      <td>66922902710d126a0e7d26b0e3805106</td>\n",
       "      <td>1</td>\n",
       "      <td>delivered</td>\n",
       "      <td>2017-11-18 19:28:06</td>\n",
       "      <td>2017-11-18 19:45:59</td>\n",
       "      <td>2017-11-23 19:45:59</td>\n",
       "      <td>2017-11-22 13:39:59</td>\n",
       "      <td>...</td>\n",
       "      <td>1816.652139</td>\n",
       "      <td>47</td>\n",
       "      <td>2017</td>\n",
       "      <td>2</td>\n",
       "      <td>1</td>\n",
       "      <td>0.0</td>\n",
       "      <td>0</td>\n",
       "      <td>3</td>\n",
       "      <td>0</td>\n",
       "      <td>2</td>\n",
       "    </tr>\n",
       "    <tr>\n",
       "      <th>4</th>\n",
       "      <td>ad21c59c0840e6cb83a9ceb5573f8159</td>\n",
       "      <td>8ab97904e6daea8866dbdbc4fb7aad2c</td>\n",
       "      <td>65266b2da20d04dbe00c5c2d3bb7859e</td>\n",
       "      <td>2c9e548be18521d1c43cde1c582c6de8</td>\n",
       "      <td>1</td>\n",
       "      <td>delivered</td>\n",
       "      <td>2018-02-13 21:18:39</td>\n",
       "      <td>2018-02-13 22:20:29</td>\n",
       "      <td>2018-02-19 20:31:37</td>\n",
       "      <td>2018-02-14 19:46:34</td>\n",
       "      <td>...</td>\n",
       "      <td>30.189028</td>\n",
       "      <td>7</td>\n",
       "      <td>2018</td>\n",
       "      <td>2</td>\n",
       "      <td>1</td>\n",
       "      <td>1.0</td>\n",
       "      <td>1</td>\n",
       "      <td>0</td>\n",
       "      <td>1</td>\n",
       "      <td>0</td>\n",
       "    </tr>\n",
       "  </tbody>\n",
       "</table>\n",
       "<p>5 rows × 41 columns</p>\n",
       "</div>"
      ],
      "text/plain": [
       "                           order_id                       customer_id  \\\n",
       "0  e481f51cbdc54678b7cc49136f2d6af7  9ef432eb6251297304e76186b10a928d   \n",
       "1  53cdb2fc8bc7dce0b6741e2150273451  b0830fb4747a6c6d20dea0b8c802d7ef   \n",
       "2  47770eb9100c2d0c44946d9cf07ec65d  41ce2a54c0b03bf3443c3d931a367089   \n",
       "3  949d5b44dbf5de918fe9c16f97b45f8a  f88197465ea7920adcdbec7375364d82   \n",
       "4  ad21c59c0840e6cb83a9ceb5573f8159  8ab97904e6daea8866dbdbc4fb7aad2c   \n",
       "\n",
       "                         product_id                         seller_id  \\\n",
       "0  87285b34884572647811a353c7ac498a  3504c0cb71d7fa48d967e0e4c94d59d9   \n",
       "1  595fac2a385ac33a80bd5114aec74eb8  289cdb325fb7e7f891c38608bf9e0962   \n",
       "2  aa4383b373c6aca5d8797843e5594415  4869f7a5dfa277a7dca6462dcf3b52b2   \n",
       "3  d0b61bfb1de832b15ba9d266ca96e5b0  66922902710d126a0e7d26b0e3805106   \n",
       "4  65266b2da20d04dbe00c5c2d3bb7859e  2c9e548be18521d1c43cde1c582c6de8   \n",
       "\n",
       "   order_item_id order_status order_purchase_timestamp    order_approved_at  \\\n",
       "0              1    delivered      2017-10-02 10:56:33  2017-10-02 11:07:15   \n",
       "1              1    delivered      2018-07-24 20:41:37  2018-07-26 03:24:27   \n",
       "2              1    delivered      2018-08-08 08:38:49  2018-08-08 08:55:23   \n",
       "3              1    delivered      2017-11-18 19:28:06  2017-11-18 19:45:59   \n",
       "4              1    delivered      2018-02-13 21:18:39  2018-02-13 22:20:29   \n",
       "\n",
       "   shipping_limit_date order_delivered_carrier_date  ... distance_in_km  \\\n",
       "0  2017-10-06 11:07:15          2017-10-04 19:55:00  ...      18.051106   \n",
       "1  2018-07-30 03:24:27          2018-07-26 14:31:00  ...     852.256379   \n",
       "2  2018-08-13 08:55:23          2018-08-08 13:50:00  ...     511.820721   \n",
       "3  2017-11-23 19:45:59          2017-11-22 13:39:59  ...    1816.652139   \n",
       "4  2018-02-19 20:31:37          2018-02-14 19:46:34  ...      30.189028   \n",
       "\n",
       "  carrier_Week  carrier_Year  carrier_DofW  Holiday  customer_state_encode  \\\n",
       "0           40          2017             2        0                    1.0   \n",
       "1           30          2018             3        0                    0.0   \n",
       "2           32          2018             2        1                    0.0   \n",
       "3           47          2017             2        1                    0.0   \n",
       "4            7          2018             2        1                    1.0   \n",
       "\n",
       "   seller_state_encode distance_category  same_state  delivery_window  \n",
       "0                    1                 0           1                1  \n",
       "1                    1                 3           0                2  \n",
       "2                    1                 2           0                2  \n",
       "3                    0                 3           0                2  \n",
       "4                    1                 0           1                0  \n",
       "\n",
       "[5 rows x 41 columns]"
      ]
     },
     "execution_count": 4,
     "metadata": {},
     "output_type": "execute_result"
    }
   ],
   "source": [
    "df = pd.read_csv('clean_data/clean_data.csv',index_col=0)\n",
    "\n",
    "df.head()"
   ]
  },
  {
   "cell_type": "markdown",
   "metadata": {},
   "source": [
    "- Selecting out target and features"
   ]
  },
  {
   "cell_type": "code",
   "execution_count": 5,
   "metadata": {},
   "outputs": [],
   "source": [
    "X_full = df.drop('delivery_window',axis=1).copy() \n",
    "\n",
    "y= df['delivery_window'] #target"
   ]
  },
  {
   "cell_type": "markdown",
   "metadata": {},
   "source": [
    " - Bringing in our selected features from previous note books"
   ]
  },
  {
   "cell_type": "code",
   "execution_count": 6,
   "metadata": {},
   "outputs": [],
   "source": [
    "features = ['product_weight_g','carrier_Week','price','carrier_DofW','freight_value','order_item_id',\n",
    "       'product_volume_cm3', 'distance_category','same_state','customer_state_encode','seller_state_encode','Holiday']\n",
    "\n",
    "X = X_full[features]"
   ]
  },
  {
   "cell_type": "markdown",
   "metadata": {},
   "source": [
    "- Spliting data into train and test split"
   ]
  },
  {
   "cell_type": "code",
   "execution_count": 12,
   "metadata": {},
   "outputs": [],
   "source": [
    "#split to full_training and test sets\n",
    "X_train_full,X_test,y_train,y_test = train_test_split(X,y,test_size=0.10,random_state=42,stratify=y)"
   ]
  },
  {
   "cell_type": "markdown",
   "metadata": {},
   "source": [
    "- Next we scaled the data using MinMax scalar"
   ]
  },
  {
   "cell_type": "code",
   "execution_count": 13,
   "metadata": {},
   "outputs": [],
   "source": [
    "min_max = MinMaxScaler()\n",
    "X_train_scaled = min_max.fit_transform(X_train_full)\n",
    "X_test_scaled = min_max.transform(X_test)"
   ]
  },
  {
   "cell_type": "markdown",
   "metadata": {},
   "source": [
    "- We know our best model is the XGboost and we also know the best parameters from the modeling notebook."
   ]
  },
  {
   "cell_type": "code",
   "execution_count": 11,
   "metadata": {},
   "outputs": [],
   "source": [
    "tuned_xgb_params = {'max_depth': 8,\n",
    " 'learning_rate': 0.03286227389731753,\n",
    " 'n_estimators': 2744,\n",
    " 'min_child_weight': 3,\n",
    " 'colsample_bytree': 0.7310402744020237,\n",
    " 'subsample': 0.7949429166896618,\n",
    " 'reg_alpha': 1.4819398025141877,\n",
    " 'reg_lambda': 0.0001069849518239625}"
   ]
  },
  {
   "cell_type": "markdown",
   "metadata": {},
   "source": [
    "- Training our data set with the tuned parameters `tuned_xgb_params`"
   ]
  },
  {
   "cell_type": "code",
   "execution_count": 14,
   "metadata": {},
   "outputs": [
    {
     "data": {
      "text/plain": [
       "XGBClassifier(base_score=0.5, booster='gbtree', colsample_bylevel=1,\n",
       "              colsample_bynode=1, colsample_bytree=0.7310402744020237, gamma=0,\n",
       "              gpu_id=-1, importance_type='gain', interaction_constraints='',\n",
       "              learning_rate=0.03286227389731753, max_delta_step=0, max_depth=8,\n",
       "              min_child_weight=3, missing=nan, monotone_constraints='()',\n",
       "              n_estimators=2744, n_jobs=0, num_parallel_tree=1,\n",
       "              objective='multi:softprob', random_state=0,\n",
       "              reg_alpha=1.4819398025141877, reg_lambda=0.0001069849518239625,\n",
       "              scale_pos_weight=None, subsample=0.7949429166896618,\n",
       "              tree_method='exact', validate_parameters=1, verbosity=None)"
      ]
     },
     "execution_count": 14,
     "metadata": {},
     "output_type": "execute_result"
    }
   ],
   "source": [
    "XGB_model = XGBClassifier(**tuned_xgb_params)\n",
    "XGB_model.fit(X_train_scaled, y_train)"
   ]
  },
  {
   "cell_type": "code",
   "execution_count": 15,
   "metadata": {},
   "outputs": [
    {
     "name": "stdout",
     "output_type": "stream",
     "text": [
      "The accuracy score on test set is: 72.68%\n"
     ]
    }
   ],
   "source": [
    "XGB_score  = round(XGB_model.score(X_test_scaled,y_test)*100,2)\n",
    "\n",
    "print(f'The accuracy score on test set is: {XGB_score}%')"
   ]
  },
  {
   "cell_type": "code",
   "execution_count": 16,
   "metadata": {},
   "outputs": [
    {
     "data": {
      "image/png": "[encoded data removed]",
      "text/plain": [
       "<Figure size 432x288 with 2 Axes>"
      ]
     },
     "metadata": {},
     "output_type": "display_data"
    }
   ],
   "source": [
    "# the function expects the estimator, inputs and target as parameters\n",
    "plot_confusion_matrix(XGB_model, X_test_scaled, y_test);"
   ]
  },
  {
   "cell_type": "markdown",
   "metadata": {},
   "source": [
    "Worthy of note is the misclassification of `1153 orders` in the category 1\n",
    "\n",
    "we can take a look at the calissfication report for more insights"
   ]
  },
  {
   "cell_type": "code",
   "execution_count": 17,
   "metadata": {},
   "outputs": [
    {
     "name": "stdout",
     "output_type": "stream",
     "text": [
      "              precision    recall  f1-score   support\n",
      "\n",
      "           0       0.74      0.74      0.74      2185\n",
      "           1       0.62      0.53      0.57      3277\n",
      "           2       0.77      0.84      0.81      5462\n",
      "\n",
      "    accuracy                           0.73     10924\n",
      "   macro avg       0.71      0.70      0.70     10924\n",
      "weighted avg       0.72      0.73      0.72     10924\n",
      "\n"
     ]
    }
   ],
   "source": [
    "XGB_y_pred = XGB_model.predict(X_test_scaled)\n",
    "report_initial = classification_report(y_test, XGB_y_pred)\n",
    "print(report_initial)"
   ]
  },
  {
   "cell_type": "markdown",
   "metadata": {},
   "source": [
    "Our model preforms a expected with \n",
    "\n",
    "- `73%` overall accuracy \n",
    "\n",
    "\n",
    "- A recall of `53%` and in class accuarcy(`f1 score`) of `57%` for `3-7 days` order"
   ]
  },
  {
   "cell_type": "markdown",
   "metadata": {},
   "source": [
    "---\n"
   ]
  },
  {
   "cell_type": "markdown",
   "metadata": {},
   "source": [
    "## Summary of Findings"
   ]
  },
  {
   "cell_type": "markdown",
   "metadata": {},
   "source": [
    "### **Problem Space**\n",
    "\n",
    "At the start of this project, the problem space was discussed and how this project would help business reduce cost and improve customer satisfaction through on-time delivery\n",
    "\n",
    "- There is a noticeable increase in e-commerce activity in the last 2 years and this is putting a strain on the global supply chain and logistics operation as a whole.\n",
    "\n",
    "\n",
    "- The last mile is arguably the biggest problem in e-commerce as it addresses the question, **`“When will I receive my order?”`**.\n",
    "\n",
    "\n",
    "- Industry leaders, such as Shopify, Amazon, and Uber have had to focus on the last mile delivery aspect of the supply chain as this has a direct impact on sales and overall service delivery.\n",
    "\n",
    "\n",
    "- When predicting CDT, **`setting thresholds is dependent on the type of business`** e.g Ubereats, Amazon, and crude oil shipping have different thresholds.\n",
    "\n",
    "\n",
    "- Over- and Underestimation of CDT is very common, everyone has experienced this with online vendors at one time or the other, **`both are very bad for business`**.\n",
    "\n",
    "\n",
    "\n",
    "\n",
    "\n",
    "\n",
    "### **Data**\n",
    "\n",
    "Data that fit into problem description was sourced and **`Olist`** data was found to be the most suitable\n",
    "\n",
    "\n",
    "- The data used is for a Brazilian e-commerce company, **`Olist, hosted on Kaggle`**.\n",
    "\n",
    "\n",
    "- Merchants are able to sell their products through the Olist Store and ship them directly to the customers using Olist logistics partners.\n",
    "\n",
    "\n",
    "- The dataset has information of **`110k orders from Oct. 2016 to  Oct. 2018`**.\n",
    "\n",
    "\n",
    "- The Data set has **`8 different tables`** representing information about orders, customers, sellers, products, and geolocations.\n",
    "\n",
    "\n",
    "- Our target is to **`predict the delivery time`** and compare it with previous predictions done by the Olist team\n",
    "\n",
    "\n",
    "\n",
    "\n",
    "### **EDA and Pre-processing**\n",
    "\n",
    "\n",
    "This was approached by segmenting tables to customer, seller, orders, and product, then doing deep dive into these tables\n",
    "\n",
    "- The geolocation table has 1million  data points/locations but 980k are duplicated, this was cleaned up.\n",
    "\n",
    "\n",
    "- Delivery times(days) were calculated from courier pick-up date and customer delivery dates and customer distance was calculated. **`Brazilian holidays was also scraped from the internet`**\n",
    "\n",
    "\n",
    "-  **`Most of the orders originate from the states of São Paulo (~41% of all orders)`**and Rio de Janeiro (~13% of all orders), both are also coincidentally cities too.\n",
    "\n",
    "\n",
    "- **`Olist overestimates delivery times by about 11 days on average`** and The average actual delivery time is 9 days. This  means they predict 20days on most deliveries but delivers on the 9th day on average\n",
    "\n",
    "\n",
    "- **`Deliveries above 20days are ~10% of the data`** and actual delivery from EDA shows delivery can take up to **`200days after logistics partner pickup`**.\n",
    "\n",
    "\n",
    "- Consolidating the data tables in the schema; customers, sellers, orders, ordersItems and products, **`ended up with ~110k rows and 30 columns`**.\n",
    "\n",
    "\n",
    "\n",
    "### **Feature Selection**\n",
    "\n",
    "\n",
    "- Features in the categories of **`customers`** (distance, state category, same state orders), **`orders`** (product size and weight) and **`external factors`** (Holidays) were added to the data set\n",
    "\n",
    "- Imbalance in data set for some features such as **`product_weight_g`,`price`,`freight value` `product_volume_cm3` and `distance`** were adequately addressed.\n",
    "\n",
    "\n",
    "- The target variable was divided into 3 delivery windows for better modeling **`less than 3-days`,`3-7 days` and `over 7 days`**\n",
    "\n",
    "\n",
    "### **Modeling**\n",
    "\n",
    "\n",
    "- Base model was a `Logistic Regression` and was hypertuned with a test accuracy of `~64%`, but performs woefully in classifying `3-7 days` delivery window. This was investgated and no tangible pattern was found in this category.\n",
    "\n",
    "\n",
    "- `Pycaret` was used in the model selection process, `Random Forest` and `Gradient Boosting` models(XGBoost) perfoms well on the data.\n",
    "\n",
    "\n",
    "- `Random Forest` and `XGBoost` had a test accuracy of `~70%` and `~73%` respectively and XGBoost classified the `3-7 days` delivery window much better with recall of `53%`\n",
    "\n",
    "\n",
    "- `Neural Network` was tuned using optuna, but didn't perform well on the data, with a accuracy of `68%` and recall of `41%` on the `3-7 days` delivery window. **model appears to be stuck at `~69% accuracy on validation set`** for any of the designed NN architecture.\n",
    "\n",
    "\n",
    "- Overall `XGBoost` is the best model with `~73%` accuracy"
   ]
  },
  {
   "cell_type": "markdown",
   "metadata": {},
   "source": [
    "---"
   ]
  },
  {
   "cell_type": "markdown",
   "metadata": {},
   "source": [
    "## Next Steps\n",
    "\n",
    "The **`business application`** on this model is enormous as it can be used to help customers and logistics companies plan delivery times based on delivery windows as used in this project, thereby reducing cost associated with last mile delivery problems.\n",
    "\n",
    "\n",
    "Although the model currently does a great job at predicting delivery time with **overall accuracy of 72%**, **`there are a few requirements and implementations that would improve the work already done on this project`**.\n",
    "\n",
    "\n",
    "\n",
    "- A more robust dataset is required that would give a good level of detail on the logistics partner operations to help with an overview of their fulfillment centres and work schedule. This will help predict the hour of the day of delivery to the nearest minute.\n",
    "\n",
    "\n",
    "\n",
    "- Explore and research more on  how other types of neural networks(RNN and CNN) can help in improving accuracy of our model\n",
    "\n",
    "\n",
    "\n",
    "- Investigate further on why recall for the `3-7 days delivery window`, performing badly.\n",
    "\n",
    "\n"
   ]
  }
 ],
 "metadata": {
  "kernelspec": {
   "display_name": "cdt_project",
   "language": "python",
   "name": "cdt_project"
  },
  "language_info": {
   "codemirror_mode": {
    "name": "ipython",
    "version": 3
   },
   "file_extension": ".py",
   "mimetype": "text/x-python",
   "name": "python",
   "nbconvert_exporter": "python",
   "pygments_lexer": "ipython3",
   "version": "3.8.12"
  }
 },
 "nbformat": 4,
 "nbformat_minor": 2
}
